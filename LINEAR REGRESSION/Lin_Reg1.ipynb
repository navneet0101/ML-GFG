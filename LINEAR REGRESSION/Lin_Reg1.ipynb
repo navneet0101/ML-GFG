{
 "cells": [
  {
   "cell_type": "markdown",
   "metadata": {},
   "source": [
    "# Basic Operation to deal with dataset"
   ]
  },
  {
   "cell_type": "code",
   "execution_count": 1,
   "metadata": {},
   "outputs": [],
   "source": [
    "import pandas as pd\n",
    "import numpy as np\n",
    "import time\n",
    "data=pd.read_csv('adult.data.csv',na_values=' ?',header =None,names=['age','workclass','fnlwgt','education','education-num','marital-status','occupation','relationship','race','gender','capital-gain','capital-loss','hours-per-week','native-country','income'])\n",
    "#if we do not have header then pass nul otherwise it will take first row as header\n",
    "\n",
    "#print(data)\n",
    "#print(data.head)\n",
    "#print(df.isnull().sum())\n",
    "#print(df[df.workclass.isnull()])#outer df..so that value should not be in true false \n",
    "\n",
    "#another method..\n",
    "#print(df[(df.workclass==' ?')])\n",
    "\n",
    "#print((df[(df.workclass==' ?')]).shape)#shape of result dataset\n",
    "#print(data.describe())\n",
    "#print(df.income.value_counts())\n",
    "#scikit-learn\n",
    "\n"
   ]
  }
 ],
 "metadata": {
  "kernelspec": {
   "display_name": "Python 3",
   "language": "python",
   "name": "python3"
  },
  "language_info": {
   "codemirror_mode": {
    "name": "ipython",
    "version": 3
   },
   "file_extension": ".py",
   "mimetype": "text/x-python",
   "name": "python",
   "nbconvert_exporter": "python",
   "pygments_lexer": "ipython3",
   "version": "3.6.5"
  }
 },
 "nbformat": 4,
 "nbformat_minor": 2
}
